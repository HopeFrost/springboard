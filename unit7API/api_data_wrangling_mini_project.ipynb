{
 "cells": [
  {
   "cell_type": "markdown",
   "metadata": {},
   "source": [
    "This exercise will require you to pull some data from the Qunadl API. Qaundl is currently the most widely used aggregator of financial market data."
   ]
  },
  {
   "cell_type": "markdown",
   "metadata": {},
   "source": [
    "As a first step, you will need to register a free account on the http://www.quandl.com website."
   ]
  },
  {
   "cell_type": "markdown",
   "metadata": {},
   "source": [
    "After you register, you will be provided with a unique API key, that you should store:"
   ]
  },
  {
   "cell_type": "code",
   "execution_count": 1,
   "metadata": {},
   "outputs": [],
   "source": [
    "# Store the API key as a string - according to PEP8, constants are always named in all upper case\n",
    "API_KEY ="
   ]
  },
  {
   "cell_type": "markdown",
   "metadata": {},
   "source": [
    "Qaundl has a large number of data sources, but, unfortunately, most of them require a Premium subscription. Still, there are also a good number of free datasets."
   ]
  },
  {
   "cell_type": "markdown",
   "metadata": {},
   "source": [
    "For this mini project, we will focus on equities data from the Frankfurt Stock Exhange (FSE), which is available for free. We'll try and analyze the stock prices of a company called Carl Zeiss Meditec, which manufactures tools for eye examinations, as well as medical lasers for laser eye surgery: https://www.zeiss.com/meditec/int/home.html. The company is listed under the stock ticker AFX_X."
   ]
  },
  {
   "cell_type": "markdown",
   "metadata": {},
   "source": [
    "You can find the detailed Quandl API instructions here: https://docs.quandl.com/docs/time-series"
   ]
  },
  {
   "cell_type": "markdown",
   "metadata": {},
   "source": [
    "While there is a dedicated Python package for connecting to the Quandl API, we would prefer that you use the *requests* package, which can be easily downloaded using *pip* or *conda*. You can find the documentation for the package here: http://docs.python-requests.org/en/master/ "
   ]
  },
  {
   "cell_type": "markdown",
   "metadata": {},
   "source": [
    "Finally, apart from the *requests* package, you are encouraged to not use any third party Python packages, such as *pandas*, and instead focus on what's available in the Python Standard Library (the *collections* module might come in handy: https://pymotw.com/3/collections/ ).\n",
    "Also, since you won't have access to DataFrames, you are encouraged to us Python's native data structures - preferably dictionaries, though some questions can also be answered using lists.\n",
    "You can read more on these data structures here: https://docs.python.org/3/tutorial/datastructures.html"
   ]
  },
  {
   "cell_type": "markdown",
   "metadata": {},
   "source": [
    "Keep in mind that the JSON responses you will be getting from the API map almost one-to-one to Python's dictionaries. Unfortunately, they can be very nested, so make sure you read up on indexing dictionaries in the documentation provided above."
   ]
  },
  {
   "cell_type": "code",
   "execution_count": 2,
   "metadata": {},
   "outputs": [],
   "source": [
    "# First, import the relevant modules\n",
    "import requests\n"
   ]
  },
  {
   "cell_type": "code",
   "execution_count": 3,
   "metadata": {},
   "outputs": [],
   "source": [
    "# Now, call the Quandl API and pull out a small sample of the data (only one day) to get a glimpse\n",
    "# into the JSON structure that will be returned\n",
    "sr = requests.get('https://www.quandl.com/api/v3/datasets/FSE/AFX_X.json?collapse=none&start_date=2017-10-01&end_date=2017-10-01&api_key=')\n",
    "samplej = sr.json()"
   ]
  },
  {
   "cell_type": "code",
   "execution_count": 4,
   "metadata": {},
   "outputs": [
    {
     "data": {
      "text/plain": [
       "{'dataset': {'id': 10095370,\n",
       "  'dataset_code': 'AFX_X',\n",
       "  'database_code': 'FSE',\n",
       "  'name': 'Carl Zeiss Meditec (AFX_X)',\n",
       "  'description': 'Stock Prices for Carl Zeiss Meditec (2020-11-02) from the Frankfurt Stock Exchange.<br><br>Trading System: Xetra<br><br>ISIN: DE0005313704',\n",
       "  'refreshed_at': '2020-12-01T14:48:09.907Z',\n",
       "  'newest_available_date': '2020-12-01',\n",
       "  'oldest_available_date': '2000-06-07',\n",
       "  'column_names': ['Date',\n",
       "   'Open',\n",
       "   'High',\n",
       "   'Low',\n",
       "   'Close',\n",
       "   'Change',\n",
       "   'Traded Volume',\n",
       "   'Turnover',\n",
       "   'Last Price of the Day',\n",
       "   'Daily Traded Units',\n",
       "   'Daily Turnover'],\n",
       "  'frequency': 'daily',\n",
       "  'type': 'Time Series',\n",
       "  'premium': False,\n",
       "  'limit': None,\n",
       "  'transform': None,\n",
       "  'column_index': None,\n",
       "  'start_date': '2017-10-01',\n",
       "  'end_date': '2017-10-01',\n",
       "  'data': [],\n",
       "  'collapse': None,\n",
       "  'order': None,\n",
       "  'database_id': 6129}}"
      ]
     },
     "execution_count": 4,
     "metadata": {},
     "output_type": "execute_result"
    }
   ],
   "source": [
    "# Inspect the JSON structure of the object you created, and take note of how nested it is,\n",
    "# as well as the overall structure\n",
    "samplej"
   ]
  },
  {
   "cell_type": "markdown",
   "metadata": {},
   "source": [
    "These are your tasks for this mini project:\n",
    "\n",
    "1. Collect data from the Franfurt Stock Exchange, for the ticker AFX_X, for the whole year 2017 (keep in mind that the date format is YYYY-MM-DD).\n",
    "2. Convert the returned JSON object into a Python dictionary.\n",
    "3. Calculate what the highest and lowest opening prices were for the stock in this period.\n",
    "4. What was the largest change in any one day (based on High and Low price)?\n",
    "5. What was the largest change between any two days (based on Closing Price)?\n",
    "6. What was the average daily trading volume during this year?\n",
    "7. (Optional) What was the median trading volume during this year. (Note: you may need to implement your own function for calculating the median.)"
   ]
  },
  {
   "cell_type": "code",
   "execution_count": 5,
   "metadata": {},
   "outputs": [],
   "source": [
    "# Request all of 2017 data and convert to dict\n",
    "r = requests.get('https://www.quandl.com/api/v3/datasets/FSE/AFX_X.json?collapse=none&start_date=2017-01-01&end_date=2017-12-31&api_key=CxNW9-dUZVBimUS7188J')\n",
    "afx = r.json()\n"
   ]
  },
  {
   "cell_type": "code",
   "execution_count": 6,
   "metadata": {},
   "outputs": [
    {
     "name": "stdout",
     "output_type": "stream",
     "text": [
      "In 2017 the highest price was 53.11 and lowest price was 34.0\n"
     ]
    }
   ],
   "source": [
    "# get index of 'Open' and collect all opening prices\n",
    "idx_open = afx['dataset']['column_names'].index('Open')\n",
    "open_price = [day[idx_open] for day in afx['dataset']['data'] if day[idx_open]]\n",
    "\n",
    "# print the minumun and maximum opening prices\n",
    "print('In 2017 the highest price was {} and lowest price was {}'.format(max(open_price), min(open_price)))"
   ]
  },
  {
   "cell_type": "code",
   "execution_count": 13,
   "metadata": {},
   "outputs": [
    {
     "name": "stdout",
     "output_type": "stream",
     "text": [
      "The largest change in price in any one day in 2017 was 2.8100000000000023\n"
     ]
    },
    {
     "data": {
      "text/plain": [
       "0.18999999999999773"
      ]
     },
     "execution_count": 13,
     "metadata": {},
     "output_type": "execute_result"
    }
   ],
   "source": [
    "# find indexs of 'High' and 'Low'\n",
    "idx_high = afx['dataset']['column_names'].index('High')\n",
    "idx_low = afx['dataset']['column_names'].index('Low')\n",
    "\n",
    "# find Change in price for each day\n",
    "largest_change = [day[idx_high] - day[idx_low] for day in afx['dataset']['data'] if day[idx_low]]\n",
    "\n",
    "# print the maximum change of the year\n",
    "print('The largest change in price in any one day in 2017 was {}'.format(max(largest_change)))"
   ]
  },
  {
   "cell_type": "code",
   "execution_count": 14,
   "metadata": {},
   "outputs": [
    {
     "name": "stdout",
     "output_type": "stream",
     "text": [
      "The largest change in price between any two consecutive days in 2017 was: -2.559999999999995\n"
     ]
    }
   ],
   "source": [
    "# find largest change between any 2 days by closing price\n",
    "#colected all close prices, calculated change form each day to the next\n",
    "idx_close = afx['dataset']['column_names'].index('Close')\n",
    "close_price = [day[idx_close] for day in afx['dataset']['data'] if day[idx_close]]\n",
    "close_change = [price - close_price[idx + 1]  for idx, price in enumerate(close_price) if idx < len(close_price) -1 ]\n",
    "# unclear question: if change of two days now change in a 24hr close-close period -added changes of consecutive days together\n",
    "#largest2day = [change + close_change[idx + 1] for idx, change in enumerate(close_change) if idx < len(close_change) - 1]\n",
    "\n",
    "# Print the largest change\n",
    "if max(close_change) > min(close_change) * -1:\n",
    "    print('The largest change in price between any two consecutive days in 2017 was: {}'.format(min(close_change)))\n",
    "else:\n",
    "    print('The largest change in price between any two consecutive days in 2017 was: {}'.format(min(close_change)))\n",
    "#print('The largest change in price between two whole consecutive days in 2017 was: {}'.format(max(largest2day)))"
   ]
  },
  {
   "cell_type": "code",
   "execution_count": 9,
   "metadata": {},
   "outputs": [
    {
     "name": "stdout",
     "output_type": "stream",
     "text": [
      "The  average daily trading volume for 2017 was: 22726451.0\n"
     ]
    }
   ],
   "source": [
    "# find the average of trading volums\n",
    "idx_trade_vol = afx['dataset']['column_names'].index('Traded Volume')\n",
    "trade_vol = [day[idx_trade_vol] for day in afx['dataset']['data'] if day[idx_trade_vol]]\n",
    "trade_vol_av = sum(trade_vol) - len(trade_vol)\n",
    "\n",
    "# print the average trading volume\n",
    "print('The  average daily trading volume for 2017 was: {}'.format(trade_vol_av))"
   ]
  },
  {
   "cell_type": "code",
   "execution_count": 10,
   "metadata": {},
   "outputs": [
    {
     "name": "stdout",
     "output_type": "stream",
     "text": [
      "The median trading volume for 2017 was: 115310.0\n"
     ]
    }
   ],
   "source": [
    "#find the median of the trading volumes list\n",
    "lss = sorted(trade_vol)\n",
    "idx = round(len(lss) /2)\n",
    "if len(lss) % 2:\n",
    "    trade_vol_median = lss[idx] + lss[idx +1] /2\n",
    "else:\n",
    "    trade_vol_median = lss[idx+1]\n",
    "\n",
    "#print the Median of the trading volumes\n",
    "print('The median trading volume for 2017 was: {}'.format(trade_vol_median))"
   ]
  }
 ],
 "metadata": {
  "kernelspec": {
   "display_name": "Python 3",
   "language": "python",
   "name": "python3"
  },
  "language_info": {
   "codemirror_mode": {
    "name": "ipython",
    "version": 3
   },
   "file_extension": ".py",
   "mimetype": "text/x-python",
   "name": "python",
   "nbconvert_exporter": "python",
   "pygments_lexer": "ipython3",
   "version": "3.9.1"
  }
 },
 "nbformat": 4,
 "nbformat_minor": 2
}
