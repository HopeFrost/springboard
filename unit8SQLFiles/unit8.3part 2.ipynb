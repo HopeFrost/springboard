{
 "cells": [
  {
   "cell_type": "code",
   "execution_count": 1,
   "id": "historical-binary",
   "metadata": {},
   "outputs": [],
   "source": [
    "from sqlalchemy import create_engine\n",
    "import pandas as pd\n",
    "\n"
   ]
  },
  {
   "cell_type": "code",
   "execution_count": 2,
   "id": "conditional-prisoner",
   "metadata": {},
   "outputs": [
    {
     "name": "stdout",
     "output_type": "stream",
     "text": [
      "              name  total_revenue\n",
      "0       Pool Table            5.0\n",
      "1    Snooker Table           10.0\n",
      "2     Table Tennis           10.0\n",
      "3     Squash Court           35.0\n",
      "4  Badminton Court           46.5\n",
      "5   Tennis Court 1           75.0\n",
      "6   Tennis Court 2           75.0\n",
      "7   Massage Room 1          160.0\n",
      "8   Massage Room 2          160.0\n"
     ]
    }
   ],
   "source": [
    "engine = create_engine('sqlite:///sqlite_db_pythonsqlite.db')\n",
    "with engine.connect() as con:\n",
    "    rs = con.execute(\n",
    "        \"SELECT f.name, (CASE WHEN b.memid = 0 THEN f.guestcost * b.slots ELSE f.membercost * b.slots END) AS total_revenue FROM Facilities AS f LEFT JOIN Bookings AS b ON f.facid = b.facid GROUP BY f.name HAVING(total_revenue < 1000) ORDER BY total_revenue;\")\n",
    "    q10 = pd.DataFrame(rs.fetchall())\n",
    "    q10.columns = rs.keys()\n",
    "    print(q10)"
   ]
  },
  {
   "cell_type": "code",
   "execution_count": 3,
   "id": "sought-group",
   "metadata": {},
   "outputs": [
    {
     "name": "stdout",
     "output_type": "stream",
     "text": [
      "              surname  firstname recommendedby\n",
      "0               Bader   Florence             9\n",
      "1               Baker       Anne             9\n",
      "2               Baker    Timothy            13\n",
      "3              Boothe        Tim             3\n",
      "4             Butters     Gerald             1\n",
      "5              Coplin       Joan            16\n",
      "6             Crumpet      Erica             2\n",
      "7                Dare      Nancy             4\n",
      "8             Farrell      David              \n",
      "9             Farrell     Jemima              \n",
      "10              GUEST      GUEST              \n",
      "11            Genting    Matthew             5\n",
      "12               Hunt       John            30\n",
      "13              Jones      David             4\n",
      "14              Jones    Douglas            11\n",
      "15           Joplette     Janice             1\n",
      "16          Mackenzie       Anna             1\n",
      "17               Owen    Charles             1\n",
      "18             Pinker      David            13\n",
      "19            Purview  Millicent             2\n",
      "20             Rownam        Tim              \n",
      "21             Rumney  Henrietta            20\n",
      "22             Sarwin  Ramnaresh            15\n",
      "23              Smith     Darren              \n",
      "24              Smith     Darren              \n",
      "25              Smith       Jack             1\n",
      "26              Smith      Tracy              \n",
      "27           Stibbons     Ponder             6\n",
      "28              Tracy     Burton              \n",
      "29         Tupperware   Hyacinth              \n",
      "30  Worthington-Smyth      Henry             2\n"
     ]
    }
   ],
   "source": [
    "engine = create_engine('sqlite:///sqlite_db_pythonsqlite.db')\n",
    "with engine.connect() as con:\n",
    "    rs = con.execute(\n",
    "        \"SELECT surname, firstname, recommendedby FROM Members ORDER BY surname, firstname;\"\n",
    "    )\n",
    "    q11 = pd.DataFrame(rs.fetchall())\n",
    "    q11.columns = rs.keys()\n",
    "    print(q11)"
   ]
  },
  {
   "cell_type": "code",
   "execution_count": 4,
   "id": "promotional-intervention",
   "metadata": {},
   "outputs": [
    {
     "name": "stdout",
     "output_type": "stream",
     "text": [
      "                name            Member  bookings\n",
      "0    Badminton Court    Anna Mackenzie        30\n",
      "1    Badminton Court        Anne Baker        10\n",
      "2    Badminton Court      Burton Tracy         2\n",
      "3    Badminton Court      Charles Owen         6\n",
      "4    Badminton Court      Darren Smith       132\n",
      "..               ...               ...       ...\n",
      "206   Tennis Court 2  Ramnaresh Sarwin        11\n",
      "207   Tennis Court 2        Tim Boothe        52\n",
      "208   Tennis Court 2        Tim Rownam         6\n",
      "209   Tennis Court 2     Timothy Baker         7\n",
      "210   Tennis Court 2       Tracy Smith         2\n",
      "\n",
      "[211 rows x 3 columns]\n"
     ]
    }
   ],
   "source": [
    "engine = create_engine('sqlite:///sqlite_db_pythonsqlite.db')\n",
    "with engine.connect() as con:\n",
    "    rs = con.execute(\n",
    "        \"SELECT f.name, m.firstname ||' '|| m.surname AS Member, COUNT(f.name) AS bookings FROM Bookings AS b LEFT JOIN Members AS m ON b.memid = m.memid LEFT JOIN Facilities AS f ON b.facid =f.facid GROUP BY f.name, member;\"\n",
    "    )\n",
    "    q12 = pd.DataFrame(rs.fetchall())\n",
    "    q12.columns = rs.keys()\n",
    "    print(q12)"
   ]
  },
  {
   "cell_type": "code",
   "execution_count": 5,
   "id": "surgical-upset",
   "metadata": {},
   "outputs": [
    {
     "name": "stdout",
     "output_type": "stream",
     "text": [
      "              name        Member  bookings  Jan  Feb  Mar  Apr  May  Jun  Jul  \\\n",
      "0  Badminton Court  Darren Smith       383    0    0    0    0    0    0   56   \n",
      "1   Massage Room 1  Darren Smith       629    0    0    0    0    0    0  123   \n",
      "2   Massage Room 2   GUEST GUEST       111    0    0    0    0    0    0   12   \n",
      "3       Pool Table  Darren Smith       836    0    0    0    0    0    0  110   \n",
      "4    Snooker Table  Darren Smith       444    0    0    0    0    0    0   75   \n",
      "5     Squash Court   GUEST GUEST       440    0    0    0    0    0    0   75   \n",
      "6     Table Tennis  Darren Smith       403    0    0    0    0    0    0   51   \n",
      "7   Tennis Court 1   Tracy Smith       408    0    0    0    0    0    0   88   \n",
      "8   Tennis Court 2   GUEST GUEST       389    0    0    0    0    0    0   68   \n",
      "\n",
      "   Aug  sept  Oct  Nov  Dec  \n",
      "0  146   181    0    0    0  \n",
      "1  224   282    0    0    0  \n",
      "2   40    59    0    0    0  \n",
      "3  291   435    0    0    0  \n",
      "4  159   210    0    0    0  \n",
      "5  170   195    0    0    0  \n",
      "6  147   205    0    0    0  \n",
      "7  146   174    0    0    0  \n",
      "8  149   172    0    0    0  \n"
     ]
    }
   ],
   "source": [
    "engine = create_engine('sqlite:///sqlite_db_pythonsqlite.db')\n",
    "with engine.connect() as con:\n",
    "    rs = con.execute(\n",
    "        \"SELECT f.name, m.firstname ||' '|| m.surname AS Member, COUNT(f.name) AS bookings, SUM(CASE WHEN starttime LIKE '%-01-%' then 1 else 0 end) as Jan, SUM(CASE WHEN starttime LIKE '%-02-%' then 1 else 0 end) as Feb, SUM(CASE WHEN starttime LIKE '%-03-%' then 1 else 0 end) as Mar, SUM(CASE WHEN starttime LIKE '%-04-%'then 1 else 0 end) as Apr, SUM(CASE WHEN starttime LIKE '%-05-%' then 1 else 0 end) as May, SUM(CASE WHEN starttime LIKE '%-06-%' then 1 else 0 end) as Jun, SUM(CASE WHEN starttime LIKE '%-07-%' then 1 else 0 end) as Jul, SUM(CASE WHEN starttime LIKE '%-08-%' then 1 else 0 end) as Aug, SUM(CASE WHEN starttime LIKE '%-09-%' then 1 else 0 end) as sept, SUM(CASE WHEN starttime LIKE '%-10-%' then 1 else 0 end) as Oct, SUM(CASE WHEN starttime LIKE '%-11-%' then 1 else 0 end) as Nov, SUM(CASE WHEN starttime LIKE '%-12-%' then 1 else 0 end) as Dec FROM Bookings AS b LEFT JOIN Members AS m ON b.memid = m.memid LEFT JOIN Facilities AS f ON b.facid =f.facid GROUP BY f.name\"\n",
    "    )\n",
    "    q13 = pd.DataFrame(rs.fetchall())\n",
    "    q13.columns = rs.keys()\n",
    "    print(q13)"
   ]
  }
 ],
 "metadata": {
  "kernelspec": {
   "display_name": "Python 3",
   "language": "python",
   "name": "python3"
  },
  "language_info": {
   "codemirror_mode": {
    "name": "ipython",
    "version": 3
   },
   "file_extension": ".py",
   "mimetype": "text/x-python",
   "name": "python",
   "nbconvert_exporter": "python",
   "pygments_lexer": "ipython3",
   "version": "3.9.1"
  }
 },
 "nbformat": 4,
 "nbformat_minor": 5
}
